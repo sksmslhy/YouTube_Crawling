{
 "cells": [
  {
   "cell_type": "markdown",
   "metadata": {},
   "source": [
    "# 유튜브 크롤링\n",
    "제목, 링크, 댓글 크롤링"
   ]
  },
  {
   "cell_type": "code",
   "execution_count": null,
   "metadata": {},
   "outputs": [],
   "source": [
    "from selenium import webdriver\n",
    "from selenium.webdriver.common.keys import Keys\n",
    "from bs4 import BeautifulSoup\n",
    "import pandas as pd\n",
    "import time\n",
    "import numpy as np\n",
    "import warnings\n",
    "warnings.filterwarnings(action='ignore')\n",
    "\n",
    "path = './chromedriver'\n",
    "driver = webdriver.Chrome(path)"
   ]
  },
  {
   "cell_type": "code",
   "execution_count": null,
   "metadata": {},
   "outputs": [],
   "source": [
    "def scroll_down(driver):\n",
    "    driver.execute_script(\"window.scrollTo(0,6000);\")\n",
    "    time.sleep(2)"
   ]
  },
  {
   "cell_type": "code",
   "execution_count": null,
   "metadata": {},
   "outputs": [],
   "source": [
    "keyword = '이이제이'\n",
    "url = 'https://www.youtube.com/results?search_query={}'.format(keyword)\n",
    "driver.get(url)\n",
    "driver.maximize_window()"
   ]
  },
  {
   "cell_type": "code",
   "execution_count": null,
   "metadata": {
    "scrolled": true
   },
   "outputs": [],
   "source": [
    "# 필터 클릭\n",
    "driver.find_element_by_xpath('/html/body/ytd-app/div/ytd-page-manager/ytd-search/div[1]/ytd-two-column-search-results-renderer/div/ytd-section-list-renderer/div[1]/div[2]/ytd-search-sub-menu-renderer/div[1]/div/ytd-toggle-button-renderer/a/tp-yt-paper-button').click()\n",
    "time.sleep(1)\n",
    "# 구분 -> 동영상 클릭\n",
    "driver.find_element_by_xpath('/html/body/ytd-app/div/ytd-page-manager/ytd-search/div[1]/ytd-two-column-search-results-renderer/div/ytd-section-list-renderer/div[1]/div[2]/ytd-search-sub-menu-renderer/div[1]/iron-collapse/div/ytd-search-filter-group-renderer[2]/ytd-search-filter-renderer[1]/a/div/yt-formatted-string').click()"
   ]
  },
  {
   "cell_type": "code",
   "execution_count": null,
   "metadata": {
    "scrolled": true
   },
   "outputs": [],
   "source": [
    "# 제목 & 링크 크롤링\n",
    "\n",
    "# 스크롤 다운 50번 실행\n",
    "body = driver.find_element_by_tag_name('body')\n",
    "body.send_keys(Keys.PAGE_DOWN)\n",
    "\n",
    "for i in range(1,50):\n",
    "    body.send_keys(Keys.PAGE_DOWN)\n",
    "    time.sleep(0.5)\n",
    "\n",
    "soup = BeautifulSoup(driver.page_source, 'html.parser')\n",
    "name = soup.select('a#video-title')\n",
    "video_url = soup.select('a#video-title')\n",
    "\n",
    "video_num_list = []\n",
    "name_list = []\n",
    "url_list = []\n",
    "\n",
    "for i in range(len(name)):\n",
    "    video_num_list.append(i+1)\n",
    "    name_list.append(name[i].text.strip())\n",
    "for i in video_url:\n",
    "    url_list.append('{}{}'.format('https://www.youtube.com',i.get('href')))\n",
    "    \n",
    "    \n",
    "youtubeDic = {\n",
    "    '영상 번호' : video_num_list,\n",
    "    '제목': name_list,\n",
    "    '주소': url_list,\n",
    "}\n",
    "\n",
    "youtubeDf = pd.DataFrame(youtubeDic)\n",
    "youtubeDf.head()"
   ]
  },
  {
   "cell_type": "code",
   "execution_count": null,
   "metadata": {},
   "outputs": [],
   "source": [
    "len(youtubeDf)"
   ]
  },
  {
   "cell_type": "code",
   "execution_count": null,
   "metadata": {
    "scrolled": true
   },
   "outputs": [],
   "source": [
    "# 댓글 크롤링\n",
    "video_num = 0\n",
    "video_idex=[]\n",
    "video_comm = []\n",
    "\n",
    "\n",
    "for i in range(len(name_list)):\n",
    "    driver.get(url_list[i])\n",
    "    \n",
    "    time.sleep(5)\n",
    "    \n",
    "    try :\n",
    "        # 동영상 재생 멈추기 \n",
    "        body = driver.find_element_by_tag_name('body')\n",
    "        body.send_keys(Keys.SPACE)\n",
    "    except: # 스페이스 누르기 안되면 직접 일시중지 클릭\n",
    "        driver.find_element_by_xpath('/html/body/ytd-app/div/ytd-page-manager/ytd-watch-flexy/div[5]/div[1]/div/div[1]/div/div/div/ytd-player/div/div/div[1]/video').click()\n",
    "        \n",
    "    # 유튜브 프리미엄 팝업창 닫기\n",
    "    try:\n",
    "        driver.find_element_by_css_selector(\"#dismiss-button > a\").click()\n",
    "    except:\n",
    "        pass\n",
    "    \n",
    "    # 댓글 보이게 하기(밑으로 내리기)\n",
    "    time.sleep(1)\n",
    "    driver.execute_script(\"window.scrollTo(0,800);\")\n",
    "    time.sleep(3)\n",
    "    \n",
    "    last_height = driver.execute_script(\"return document.documentElement.scrollHeight\")\n",
    "\n",
    "    while True:\n",
    "        driver.execute_script(\"window.scrollTo(0, document.documentElement.scrollHeight);\")\n",
    "        time.sleep(1.5)\n",
    "\n",
    "        new_height = driver.execute_script(\"return document.documentElement.scrollHeight\")\n",
    "        if new_height == last_height:\n",
    "            break\n",
    "        last_height = new_height\n",
    "\n",
    "    time.sleep(1.5)\n",
    "    \n",
    "    \n",
    "    # 댓글 더보기 클릭 (대댓글)\n",
    "    buttons = driver.find_elements_by_css_selector(\"#more-replies > a\")\n",
    "    time.sleep(1.5)\n",
    "    for button in buttons:\n",
    "        button.send_keys(Keys.ENTER)\n",
    "        time.sleep(1.5)\n",
    "        button.click()\n",
    "        \n",
    "    html_source = driver.page_source\n",
    "    soup = BeautifulSoup(html_source, 'html.parser')\n",
    "\n",
    "    comment_list = soup.select(\"yt-formatted-string#content-text\")\n",
    "\n",
    "    comment_final = []\n",
    "\n",
    "    for i in range(len(comment_list)):\n",
    "        temp_comment = comment_list[i].text\n",
    "        temp_comment = temp_comment.replace('\\n', '')\n",
    "        temp_comment = temp_comment.replace('\\t', '')\n",
    "        temp_comment = temp_comment.replace('    ', '')\n",
    "        temp_comment = temp_comment.replace('\\xa0@', '')\n",
    "        temp_comment = temp_comment.replace('\\xa0', '')\n",
    "        temp_comment = temp_comment.replace('\\r', '')\n",
    "        comment_final.append(temp_comment)\n",
    "    \n",
    "    video_idex.append(video_num)\n",
    "    video_comm.append(comment_final)\n",
    "    video_num += 1"
   ]
  },
  {
   "cell_type": "code",
   "execution_count": null,
   "metadata": {},
   "outputs": [],
   "source": [
    "df = []\n",
    "for i in range(len(video_idex)):\n",
    "    if len(video_comm[i]) != 0:\n",
    "        n = np.full((len(video_comm[i])),i+1)\n",
    "        temp = pd.DataFrame([ x for x in zip(n,video_comm[i])])\n",
    "        df.append(temp)"
   ]
  },
  {
   "cell_type": "code",
   "execution_count": null,
   "metadata": {},
   "outputs": [],
   "source": [
    "comment_df = df[0]\n",
    "for i in range(1, len(df)):\n",
    "    comment_df = pd.concat([comment_df, df[i]])\n",
    "    \n",
    "comment_df.columns = ['영상 번호', '댓글']\n",
    "comment_df.head()"
   ]
  },
  {
   "cell_type": "code",
   "execution_count": null,
   "metadata": {
    "scrolled": true
   },
   "outputs": [],
   "source": [
    "#CSV형태로 저장하기\n",
    "youtubeDf.to_csv('./'+'유튜브_'+keyword+'_크롤링.csv', encoding='utf-8-sig', index=False)\n",
    "comment_df.to_csv('./'+'유튜브_'+keyword+'_댓글.csv', encoding='utf-8-sig', index=False)"
   ]
  }
 ],
 "metadata": {
  "kernelspec": {
   "display_name": "Python 3.6.13 64-bit ('crawling': conda)",
   "language": "python",
   "name": "python3613jvsc74a57bd0ad4771d37219da4ee5b561ed0e9a4c11c22627f006539e1b54bb3f50eb8b1aba"
  },
  "language_info": {
   "codemirror_mode": {
    "name": "ipython",
    "version": 3
   },
   "file_extension": ".py",
   "mimetype": "text/x-python",
   "name": "python",
   "nbconvert_exporter": "python",
   "pygments_lexer": "ipython3",
   "version": "3.6.13"
  }
 },
 "nbformat": 4,
 "nbformat_minor": 4
}
