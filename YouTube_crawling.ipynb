{
 "cells": [
  {
   "cell_type": "markdown",
   "metadata": {},
   "source": [
    "# 유튜브 크롤링\n",
    "제목, 링크, 댓글 크롤링"
   ]
  },
  {
   "cell_type": "code",
   "execution_count": 1,
   "metadata": {},
   "outputs": [],
   "source": [
    "from selenium import webdriver\n",
    "from selenium.webdriver.common.keys import Keys\n",
    "from bs4 import BeautifulSoup\n",
    "import pandas as pd\n",
    "import time\n",
    "import numpy as np\n",
    "import warnings\n",
    "warnings.filterwarnings(action='ignore')\n",
    "\n",
    "path = './chromedriver'"
   ]
  },
  {
   "cell_type": "code",
   "execution_count": 2,
   "metadata": {},
   "outputs": [],
   "source": [
    "driver = webdriver.Chrome(path)\n",
    "keyword = '이이제이'\n",
    "url = 'https://www.youtube.com/results?search_query={}'.format(keyword)\n",
    "driver.get(url)\n",
    "driver.maximize_window()"
   ]
  },
  {
   "cell_type": "code",
   "execution_count": 3,
   "metadata": {},
   "outputs": [],
   "source": [
    "def scroll_down(driver):\n",
    "    driver.execute_script(\"window.scrollTo(0,6000);\")\n",
    "    time.sleep(2)"
   ]
  },
  {
   "cell_type": "code",
   "execution_count": 4,
   "metadata": {
    "scrolled": true
   },
   "outputs": [],
   "source": [
    "# 필터 클릭\n",
    "driver.find_element_by_xpath('/html/body/ytd-app/div/ytd-page-manager/ytd-search/div[1]/ytd-two-column-search-results-renderer/div/ytd-section-list-renderer/div[1]/div[2]/ytd-search-sub-menu-renderer/div[1]/div/ytd-toggle-button-renderer/a/tp-yt-paper-button').click()\n",
    "time.sleep(1)\n",
    "# 구분 -> 동영상 클릭\n",
    "driver.find_element_by_xpath('/html/body/ytd-app/div/ytd-page-manager/ytd-search/div[1]/ytd-two-column-search-results-renderer/div/ytd-section-list-renderer/div[1]/div[2]/ytd-search-sub-menu-renderer/div[1]/iron-collapse/div/ytd-search-filter-group-renderer[2]/ytd-search-filter-renderer[1]/a/div/yt-formatted-string').click()"
   ]
  },
  {
   "cell_type": "code",
   "execution_count": 12,
   "metadata": {
    "scrolled": true
   },
   "outputs": [
    {
     "data": {
      "text/html": [
       "<div>\n",
       "<style scoped>\n",
       "    .dataframe tbody tr th:only-of-type {\n",
       "        vertical-align: middle;\n",
       "    }\n",
       "\n",
       "    .dataframe tbody tr th {\n",
       "        vertical-align: top;\n",
       "    }\n",
       "\n",
       "    .dataframe thead th {\n",
       "        text-align: right;\n",
       "    }\n",
       "</style>\n",
       "<table border=\"1\" class=\"dataframe\">\n",
       "  <thead>\n",
       "    <tr style=\"text-align: right;\">\n",
       "      <th></th>\n",
       "      <th>영상 번호</th>\n",
       "      <th>제목</th>\n",
       "      <th>주소</th>\n",
       "    </tr>\n",
       "  </thead>\n",
       "  <tbody>\n",
       "    <tr>\n",
       "      <th>0</th>\n",
       "      <td>1</td>\n",
       "      <td>[이이제이x라이브!] 국민들은 콩가루 집안을 싫어합니다</td>\n",
       "      <td>https://www.youtube.com/watch?v=idF9WIhqJbs</td>\n",
       "    </tr>\n",
       "    <tr>\n",
       "      <th>1</th>\n",
       "      <td>2</td>\n",
       "      <td>[이이제이x라이브!] 권순정 팀장님, 여론조사 말고 이재명 캠프이야기나 해줘요!</td>\n",
       "      <td>https://www.youtube.com/watch?v=RRiQoWDrpRw</td>\n",
       "    </tr>\n",
       "    <tr>\n",
       "      <th>2</th>\n",
       "      <td>3</td>\n",
       "      <td>[저널리즘M2] 제아무리 당대표라도 윤핵관을 지날 수는 없소!</td>\n",
       "      <td>https://www.youtube.com/watch?v=bklsX8K4LQg</td>\n",
       "    </tr>\n",
       "    <tr>\n",
       "      <th>3</th>\n",
       "      <td>4</td>\n",
       "      <td>[이이제이x라이브!] #이재명은합니다! #우리도합니다!</td>\n",
       "      <td>https://www.youtube.com/watch?v=DlXnKM4pwNk</td>\n",
       "    </tr>\n",
       "    <tr>\n",
       "      <th>4</th>\n",
       "      <td>5</td>\n",
       "      <td>[이이제이x라이브!] 현재 지지율? 아무런 의미 없다!</td>\n",
       "      <td>https://www.youtube.com/watch?v=S0-vuTdTVAM</td>\n",
       "    </tr>\n",
       "  </tbody>\n",
       "</table>\n",
       "</div>"
      ],
      "text/plain": [
       "   영상 번호                                            제목  \\\n",
       "0      1                [이이제이x라이브!] 국민들은 콩가루 집안을 싫어합니다   \n",
       "1      2  [이이제이x라이브!] 권순정 팀장님, 여론조사 말고 이재명 캠프이야기나 해줘요!   \n",
       "2      3            [저널리즘M2] 제아무리 당대표라도 윤핵관을 지날 수는 없소!   \n",
       "3      4                [이이제이x라이브!] #이재명은합니다! #우리도합니다!   \n",
       "4      5                [이이제이x라이브!] 현재 지지율? 아무런 의미 없다!   \n",
       "\n",
       "                                            주소  \n",
       "0  https://www.youtube.com/watch?v=idF9WIhqJbs  \n",
       "1  https://www.youtube.com/watch?v=RRiQoWDrpRw  \n",
       "2  https://www.youtube.com/watch?v=bklsX8K4LQg  \n",
       "3  https://www.youtube.com/watch?v=DlXnKM4pwNk  \n",
       "4  https://www.youtube.com/watch?v=S0-vuTdTVAM  "
      ]
     },
     "execution_count": 12,
     "metadata": {},
     "output_type": "execute_result"
    }
   ],
   "source": [
    "# 제목 & 링크 크롤링\n",
    "for i in range(10):\n",
    "    scroll_down(driver)\n",
    "    \n",
    "time.sleep(2)\n",
    "\n",
    "soup = BeautifulSoup(driver.page_source, 'html.parser')\n",
    "name = soup.select('a#video-title')\n",
    "video_url = soup.select('a#video-title')\n",
    "\n",
    "video_num_list = []\n",
    "name_list = []\n",
    "url_list = []\n",
    "\n",
    "for i in range(len(name)):\n",
    "    video_num_list.append(i+1)\n",
    "    name_list.append(name[i].text.strip())\n",
    "for i in video_url:\n",
    "    url_list.append('{}{}'.format('https://www.youtube.com',i.get('href')))\n",
    "    \n",
    "    \n",
    "youtubeDic = {\n",
    "    '영상 번호' : video_num_list,\n",
    "    '제목': name_list,\n",
    "    '주소': url_list,\n",
    "}\n",
    "\n",
    "youtubeDf = pd.DataFrame(youtubeDic)\n",
    "\n",
    "youtubeDf.head()"
   ]
  },
  {
   "cell_type": "code",
   "execution_count": 14,
   "metadata": {},
   "outputs": [],
   "source": [
    "# 댓글 크롤링\n",
    "video_num = 0\n",
    "video_idex=[]\n",
    "video_comm = []\n",
    "\n",
    "\n",
    "for i in range(2):\n",
    "    driver.get(url_list[i])\n",
    "    \n",
    "    time.sleep(5)\n",
    "    \n",
    "    try :\n",
    "    # 동영상 재생 멈추기 - 광고로 시작하면 적용 안되는 문제\n",
    "        driver.find_element_by_xpath('/html/body/ytd-app/div/ytd-page-manager/ytd-watch-flexy/div[5]/div[1]/div/div[1]/div/div/div/ytd-player/div/div/div[1]/video').click()\n",
    "    except:\n",
    "        pass\n",
    "    try: # 광고로 시작할 때 동영상 재생 멈추기\n",
    "        driver.find_element_by_xpath('').click()\n",
    "    except:\n",
    "        pass\n",
    "        \n",
    "    # 유튜브 프리미엄 팝업창 닫기\n",
    "    try:\n",
    "        driver.find_element_by_css_selector(\"#dismiss-button > a\").click()\n",
    "    except:\n",
    "        pass\n",
    "    \n",
    "    # 댓글 보이게 하기(밑으로 내리기)\n",
    "    time.sleep(1)\n",
    "    driver.execute_script(\"window.scrollTo(0,800);\")\n",
    "    time.sleep(3)\n",
    "    \n",
    "    last_height = driver.execute_script(\"return document.documentElement.scrollHeight\")\n",
    "\n",
    "    while True:\n",
    "        driver.execute_script(\"window.scrollTo(0, document.documentElement.scrollHeight);\")\n",
    "        time.sleep(1.5)\n",
    "\n",
    "        new_height = driver.execute_script(\"return document.documentElement.scrollHeight\")\n",
    "        if new_height == last_height:\n",
    "            break\n",
    "        last_height = new_height\n",
    "\n",
    "    time.sleep(1.5)\n",
    "    \n",
    "    \n",
    "    # 댓글 더보기 클릭 (대댓글)\n",
    "    buttons = driver.find_elements_by_css_selector(\"#more-replies > a\")\n",
    "    time.sleep(1.5)\n",
    "    for button in buttons:\n",
    "        button.send_keys(Keys.ENTER)\n",
    "        time.sleep(1.5)\n",
    "        button.click()\n",
    "        \n",
    "    html_source = driver.page_source\n",
    "    soup = BeautifulSoup(html_source, 'html.parser')\n",
    "\n",
    "    comment_list = soup.select(\"yt-formatted-string#content-text\")\n",
    "\n",
    "    comment_final = []\n",
    "\n",
    "    for i in range(len(comment_list)):\n",
    "        temp_comment = comment_list[i].text\n",
    "        temp_comment = temp_comment.replace('\\n', '')\n",
    "        temp_comment = temp_comment.replace('\\t', '')\n",
    "        temp_comment = temp_comment.replace('    ', '')\n",
    "        temp_comment = temp_comment.replace('\\xa0@', '')\n",
    "        temp_comment = temp_comment.replace('\\xa0', '')\n",
    "        temp_comment = temp_comment.replace('\\r', '')\n",
    "        comment_final.append(temp_comment)\n",
    "    \n",
    "    video_idex.append(video_num)\n",
    "    video_comm.append(comment_final)\n",
    "    video_num += 1"
   ]
  },
  {
   "cell_type": "code",
   "execution_count": 15,
   "metadata": {},
   "outputs": [],
   "source": [
    "df = []\n",
    "for i in range(len(video_idex)):\n",
    "    if len(video_comm[i]) != 0:\n",
    "        n = np.full((len(video_comm[i])),i+1)\n",
    "        temp = pd.DataFrame([ x for x in zip(n,video_comm[i])])\n",
    "        df.append(temp)"
   ]
  },
  {
   "cell_type": "code",
   "execution_count": 16,
   "metadata": {},
   "outputs": [
    {
     "data": {
      "text/html": [
       "<div>\n",
       "<style scoped>\n",
       "    .dataframe tbody tr th:only-of-type {\n",
       "        vertical-align: middle;\n",
       "    }\n",
       "\n",
       "    .dataframe tbody tr th {\n",
       "        vertical-align: top;\n",
       "    }\n",
       "\n",
       "    .dataframe thead th {\n",
       "        text-align: right;\n",
       "    }\n",
       "</style>\n",
       "<table border=\"1\" class=\"dataframe\">\n",
       "  <thead>\n",
       "    <tr style=\"text-align: right;\">\n",
       "      <th></th>\n",
       "      <th>영상 번호</th>\n",
       "      <th>댓글</th>\n",
       "    </tr>\n",
       "  </thead>\n",
       "  <tbody>\n",
       "    <tr>\n",
       "      <th>0</th>\n",
       "      <td>1</td>\n",
       "      <td>바로 방송 시청하기는 4:41 입니다.구독과 좋아요는 언제나 큰 힘이 됩니다:) 감...</td>\n",
       "    </tr>\n",
       "    <tr>\n",
       "      <th>1</th>\n",
       "      <td>1</td>\n",
       "      <td>폭력과 분열 분쟁은 이제 그만! 동서통합 남북통일시대로 나아가자!부국강병 나라가 부...</td>\n",
       "    </tr>\n",
       "    <tr>\n",
       "      <th>2</th>\n",
       "      <td>1</td>\n",
       "      <td>이동형 작가님 보세요.성질더러운 이작가님의 조언대로기본소득ㆍ국토보유세ㆍ탄소세한발짝씩...</td>\n",
       "    </tr>\n",
       "    <tr>\n",
       "      <th>3</th>\n",
       "      <td>1</td>\n",
       "      <td>이이제이 재미있어서 매주 봅니다.</td>\n",
       "    </tr>\n",
       "    <tr>\n",
       "      <th>4</th>\n",
       "      <td>1</td>\n",
       "      <td>우리는 이동형 패밀리들이 있기때문에 희망이 있다~가즈아~~~~~~~!!</td>\n",
       "    </tr>\n",
       "  </tbody>\n",
       "</table>\n",
       "</div>"
      ],
      "text/plain": [
       "   영상 번호                                                 댓글\n",
       "0      1  바로 방송 시청하기는 4:41 입니다.구독과 좋아요는 언제나 큰 힘이 됩니다:) 감...\n",
       "1      1  폭력과 분열 분쟁은 이제 그만! 동서통합 남북통일시대로 나아가자!부국강병 나라가 부...\n",
       "2      1  이동형 작가님 보세요.성질더러운 이작가님의 조언대로기본소득ㆍ국토보유세ㆍ탄소세한발짝씩...\n",
       "3      1                                 이이제이 재미있어서 매주 봅니다.\n",
       "4      1            우리는 이동형 패밀리들이 있기때문에 희망이 있다~가즈아~~~~~~~!!"
      ]
     },
     "execution_count": 16,
     "metadata": {},
     "output_type": "execute_result"
    }
   ],
   "source": [
    "comment_df = df[0]\n",
    "for i in range(1, len(df)):\n",
    "    comment_df = pd.concat([comment_df, df[i]])\n",
    "    \n",
    "comment_df.columns = ['영상 번호', '댓글']\n",
    "comment_df.head()"
   ]
  },
  {
   "cell_type": "code",
   "execution_count": 18,
   "metadata": {
    "scrolled": true
   },
   "outputs": [],
   "source": [
    "#CSV형태로 저장하기\n",
    "youtubeDf.to_csv('./'+'유튜브_'+keyword+'_크롤링.csv', encoding='utf-8-sig', index=False)\n",
    "comment_df.to_csv('./'+'유튜브_'+keyword+'_댓글.csv', encoding='utf-8-sig', index=False)"
   ]
  },
  {
   "cell_type": "code",
   "execution_count": 71,
   "metadata": {},
   "outputs": [],
   "source": []
  },
  {
   "cell_type": "code",
   "execution_count": null,
   "metadata": {},
   "outputs": [],
   "source": []
  }
 ],
 "metadata": {
  "kernelspec": {
   "display_name": "Python 3.6.13 64-bit ('crawling': conda)",
   "language": "python",
   "name": "python3613jvsc74a57bd0ad4771d37219da4ee5b561ed0e9a4c11c22627f006539e1b54bb3f50eb8b1aba"
  },
  "language_info": {
   "codemirror_mode": {
    "name": "ipython",
    "version": 3
   },
   "file_extension": ".py",
   "mimetype": "text/x-python",
   "name": "python",
   "nbconvert_exporter": "python",
   "pygments_lexer": "ipython3",
   "version": "3.6.13"
  }
 },
 "nbformat": 4,
 "nbformat_minor": 4
}
